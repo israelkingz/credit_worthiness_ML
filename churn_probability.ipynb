{
 "cells": [
  {
   "cell_type": "code",
   "execution_count": null,
   "metadata": {
    "id": "AyGG1gK6GMxr"
   },
   "outputs": [],
   "source": [
    "# Import libraries\n",
    "import pandas as pd\n",
    "import numpy as np\n",
    "from sklearn.preprocessing import StandardScaler\n",
    "from sklearn.model_selection import train_test_split\n",
    "from sklearn.metrics import classification_report\n",
    "from sklearn.linear_model import LogisticRegression\n",
    "from sklearn.ensemble import RandomForestClassifier\n",
    "from xgboost import XGBClassifier\n",
    "import shap\n",
    "\n",
    "# Load data\n",
    "data = pd.read_csv(\"ecommerce_data.csv\")\n",
    "\n",
    "# Preprocessing\n",
    "# Clean and preprocess the data, including handling missing values, feature engineering, and transforming categorical variables into numerical features.\n",
    "\n",
    "# Segmentation\n",
    "# Use the RFM model to segment customers based on their past behaviour.\n",
    "recency = data.groupby('CustomerID')['InvoiceDate'].max().apply(lambda x: (pd.to_datetime('2012-12-31') - x).days)\n",
    "frequency = data.groupby('CustomerID')['InvoiceNo'].nunique()\n",
    "monetary_value = data.groupby('CustomerID')['TotalPrice'].sum()\n",
    "rfm = pd.concat([recency, frequency, monetary_value], axis=1)\n",
    "rfm.columns = ['recency', 'frequency', 'monetary_value']\n",
    "rfm['recency_score'] = pd.cut(rfm['recency'], bins=[-1, 30, 60, 90, 120, 10000], labels=[5, 4, 3, 2, 1])\n",
    "rfm['frequency_score'] = pd.cut(rfm['frequency'], bins=[-1, 1, 2, 3, 4, 1000], labels=[1, 2, 3, 4, 5])\n",
    "rfm['monetary_score'] = pd.cut(rfm['monetary_value'], bins=[-1, 100, 500, 1000, 5000, 10000], labels=[1, 2, 3, 4, 5])\n",
    "rfm['rfm_score'] = rfm['recency_score'].astype(str) + rfm['frequency_score'].astype(str) + rfm['monetary_score'].astype(str)\n",
    "\n",
    "# Feature selection\n",
    "# Select the most relevant features for predicting customer propensity to purchase.\n",
    "X = rfm[['recency', 'frequency', 'monetary_value']]\n",
    "y = # target variable indicating whether a customer made a purchase in the future\n",
    "\n",
    "# Model selection\n",
    "# Choose an appropriate machine learning algorithm to build a predictive model.\n",
    "model = # choose a machine learning algorithm such as LogisticRegression(), RandomForestClassifier(), or XGBClassifier()\n",
    "\n",
    "# Model training\n",
    "# Train the selected model using the preprocessed data and selected features.\n",
    "X_train, X_test, y_train, y_test = train_test_split(X, y, test_size=0.2, random_state=42)\n",
    "scaler = StandardScaler()\n",
    "X_train_scaled = scaler.fit_transform(X_train)\n",
    "X_test_scaled = scaler.transform(X_test)\n",
    "model.fit(X_train_scaled, y_train)\n",
    "\n",
    "# Model evaluation\n",
    "# Evaluate the performance of the trained model using metrics such as accuracy, precision, recall, and F1-score.\n",
    "y_pred = model.predict(X_test_scaled)\n",
    "print(classification_report(y_test, y_pred))\n",
    "\n",
    "# Interpretation\n",
    "# Use Explainable AI techniques such as feature importance analysis or model interpretation to interpret the predictions of the model.\n",
    "explainer = shap.Explainer(model)\n",
    "shap_values = explainer(X_test_scaled)\n",
    "shap.summary_plot(shap_values, X_test_scaled, plot_type=\"bar\")\n",
    "\n",
    "# Deployment\n",
    "# Deploy the trained model and provide recommendations to the e-commerce company on how to increase sales by targeting customers who are most likely to make purchases.\n",
    "\n",
    "\n",
    "\n",
    "\n",
    "\n"
   ]
  }
 ],
 "metadata": {
  "colab": {
   "provenance": []
  },
  "kernelspec": {
   "display_name": "Python 3 (ipykernel)",
   "language": "python",
   "name": "python3"
  },
  "language_info": {
   "codemirror_mode": {
    "name": "ipython",
    "version": 3
   },
   "file_extension": ".py",
   "mimetype": "text/x-python",
   "name": "python",
   "nbconvert_exporter": "python",
   "pygments_lexer": "ipython3",
   "version": "3.9.13"
  }
 },
 "nbformat": 4,
 "nbformat_minor": 4
}
